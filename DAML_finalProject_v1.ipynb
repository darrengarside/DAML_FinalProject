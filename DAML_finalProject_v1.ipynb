{
 "cells": [
  {
   "cell_type": "markdown",
   "metadata": {},
   "source": [
    "# DAML - BSU Skills Bootcamp 2025\n",
    "## Problem statement:\n",
    "### Are there identifiable features of students’ citation practices that we can use as insights for our teaching?"
   ]
  },
  {
   "cell_type": "markdown",
   "metadata": {},
   "source": [
    "## ETL\n",
    "### Extraction\n",
    "    - Two undergraduate dissertation part 1 submissions. Excellent from 2023-24 and a upper mid-range from 2024-25.\n",
    "    - References transformed into JSON using anystyle.io\n",
    "        - TODO: create function that runs local Ruby script for anystyle.io to allow batch processing of multiple scripts.\n",
    "## Transform JSON into VOSViewer format\n",
    "### Lookup paperid as <<PK>> from semanticscholar api  \n",
    "\n"
   ]
  }
 ],
 "metadata": {
  "language_info": {
   "name": "python"
  }
 },
 "nbformat": 4,
 "nbformat_minor": 2
}
