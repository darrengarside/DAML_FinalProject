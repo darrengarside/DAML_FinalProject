{
 "cells": [
  {
   "cell_type": "markdown",
   "metadata": {},
   "source": [
    "# DAML BSU Course 2025 Final Project"
   ]
  },
  {
   "cell_type": "markdown",
   "metadata": {},
   "source": [
    "## Specification"
   ]
  },
  {
   "cell_type": "markdown",
   "metadata": {},
   "source": [
    "### Problem statement\n",
    "Are there any metrics I can use or derive that can describe patterns of citation use in UG literature reviews?\n",
    "Initial answer: poorer work uses citations that are less tightly-bound to one another and more likely to be outside of the genre."
   ]
  },
  {
   "cell_type": "markdown",
   "metadata": {},
   "source": [
    "## Extract, Transform, Load version1\n",
    "1. identify two training documents\n",
    "2. strip out all material before and after lit review except reference list\n",
    "3. Structuring the data\n",
    "    * how do I identify headers for the proximity metric?\n",
    "    * how do I extract bibliographic info into a graph?\n",
    "    * ruby gem - anystyle.io\n",
    "    * For now quick and dirty and do manually on anystyle.io web client"
   ]
  },
  {
   "cell_type": "code",
   "execution_count": null,
   "metadata": {},
   "outputs": [],
   "source": [
    "# Needed for full implementation - allows running anystyle.io as system call from Python\n",
    "# This is a simple example of how to run a Ruby script from Python and capture the output.\n",
    "# The subprocess module is used to run the Ruby script and capture the output.\n",
    "# Student citations likely to be very noisy data so clean up will be needed\n",
    "import subprocess\n",
    "\n",
    "# Path to your Ruby script\n",
    "ruby_script = 'path/to/your_script.rb'\n",
    "\n",
    "# Execute the Ruby script\n",
    "result = subprocess.run(['ruby', ruby_script], capture_output=True, text=True)\n",
    "\n",
    "# Print the output from the Ruby script\n",
    "print(result.stdout)\n"
   ]
  },
  {
   "cell_type": "code",
   "execution_count": null,
   "metadata": {},
   "outputs": [
    {
     "data": {
      "application/vnd.microsoft.datawrangler.viewer.v0+json": {
       "columns": [
        {
         "name": "index",
         "rawType": "int64",
         "type": "integer"
        },
        {
         "name": "author",
         "rawType": "object",
         "type": "unknown"
        },
        {
         "name": "title",
         "rawType": "object",
         "type": "string"
        },
        {
         "name": "volume",
         "rawType": "float64",
         "type": "float"
        },
        {
         "name": "type",
         "rawType": "object",
         "type": "string"
        },
        {
         "name": "container-title",
         "rawType": "object",
         "type": "string"
        },
        {
         "name": "issue",
         "rawType": "float64",
         "type": "float"
        },
        {
         "name": "language",
         "rawType": "object",
         "type": "string"
        },
        {
         "name": "issued",
         "rawType": "object",
         "type": "unknown"
        },
        {
         "name": "page",
         "rawType": "object",
         "type": "string"
        },
        {
         "name": "note",
         "rawType": "object",
         "type": "unknown"
        },
        {
         "name": "URL",
         "rawType": "object",
         "type": "unknown"
        }
       ],
       "conversionMethod": "pd.DataFrame",
       "ref": "336f2c31-959d-4efa-9015-e9d9bded7a1f",
       "rows": [
        [
         "0",
         "[{'family': 'Bagnall', 'given': 'C.'}, {'family': 'Fox', 'given': 'C.'}, {'family': 'Skipper', 'given': 'Y.'}]",
         "What emotional-centred challenges do children attending special schools face over primary secondary school transition?",
         "21.0",
         "article-journal",
         "Journal of Research in Special Educational Needs",
         "2.0",
         "en",
         "{'date-parts': [[2021]]}",
         "156–167",
         null,
         null
        ],
        [
         "1",
         "[{'given': 'Booth'}]",
         "Systematic approaches to a successful literature review’",
         "3.0",
         "article-journal",
         "SAGE Publication",
         null,
         "en",
         "{'date-parts': [[2022]]}",
         "1–22",
         null,
         null
        ],
        [
         "2",
         "[{'family': 'Birkett', 'given': 'L.'}, {'family': 'McGrath', 'given': 'L.'}, {'family': 'Tucker', 'given': 'I.'}]",
         "Muting, filtering and transforming space: Autistic children’s sensory ‘tactics’ for navigating mainstream school space following transition to secondary school",
         "42.0",
         "article-journal",
         "Emotion, Space and Society",
         null,
         "en",
         "{'date-parts': [[2022]]}",
         "1000872",
         null,
         null
        ],
        [
         "3",
         "[{'family': 'Code', 'given': 'A.'}, {'family': 'Fox', 'given': 'L.'}, {'family': 'Asbury', 'given': 'K.'}, {'family': 'Toseeb', 'given': 'U.'}]",
         "How did autistic children, and their parents, experience school transition during the Covid-19 pandemic?",
         "49.0",
         "article-journal",
         "British Journal of Special Education",
         "2.0",
         "en",
         "{'date-parts': [[2022]]}",
         "168–189",
         null,
         null
        ],
        [
         "4",
         "[{'family': 'Cohen', 'given': 'L.'}, {'family': 'Manion', 'given': 'L.'}, {'family': 'Morrison', 'given': 'K.'}]",
         "Research Methods in Education’",
         "6.0",
         "article-journal",
         "Routledge",
         null,
         "en",
         "{'date-parts': [[2018]]}",
         "461– 475",
         null,
         null
        ]
       ],
       "shape": {
        "columns": 11,
        "rows": 5
       }
      },
      "text/html": [
       "<div>\n",
       "<style scoped>\n",
       "    .dataframe tbody tr th:only-of-type {\n",
       "        vertical-align: middle;\n",
       "    }\n",
       "\n",
       "    .dataframe tbody tr th {\n",
       "        vertical-align: top;\n",
       "    }\n",
       "\n",
       "    .dataframe thead th {\n",
       "        text-align: right;\n",
       "    }\n",
       "</style>\n",
       "<table border=\"1\" class=\"dataframe\">\n",
       "  <thead>\n",
       "    <tr style=\"text-align: right;\">\n",
       "      <th></th>\n",
       "      <th>author</th>\n",
       "      <th>title</th>\n",
       "      <th>volume</th>\n",
       "      <th>type</th>\n",
       "      <th>container-title</th>\n",
       "      <th>issue</th>\n",
       "      <th>language</th>\n",
       "      <th>issued</th>\n",
       "      <th>page</th>\n",
       "      <th>note</th>\n",
       "      <th>URL</th>\n",
       "    </tr>\n",
       "  </thead>\n",
       "  <tbody>\n",
       "    <tr>\n",
       "      <th>0</th>\n",
       "      <td>[{'family': 'Bagnall', 'given': 'C.'}, {'famil...</td>\n",
       "      <td>What emotional-centred challenges do children ...</td>\n",
       "      <td>21.0</td>\n",
       "      <td>article-journal</td>\n",
       "      <td>Journal of Research in Special Educational Needs</td>\n",
       "      <td>2.0</td>\n",
       "      <td>en</td>\n",
       "      <td>{'date-parts': [[2021]]}</td>\n",
       "      <td>156–167</td>\n",
       "      <td>NaN</td>\n",
       "      <td>NaN</td>\n",
       "    </tr>\n",
       "    <tr>\n",
       "      <th>1</th>\n",
       "      <td>[{'given': 'Booth'}]</td>\n",
       "      <td>Systematic approaches to a successful literatu...</td>\n",
       "      <td>3.0</td>\n",
       "      <td>article-journal</td>\n",
       "      <td>SAGE Publication</td>\n",
       "      <td>NaN</td>\n",
       "      <td>en</td>\n",
       "      <td>{'date-parts': [[2022]]}</td>\n",
       "      <td>1–22</td>\n",
       "      <td>NaN</td>\n",
       "      <td>NaN</td>\n",
       "    </tr>\n",
       "    <tr>\n",
       "      <th>2</th>\n",
       "      <td>[{'family': 'Birkett', 'given': 'L.'}, {'famil...</td>\n",
       "      <td>Muting, filtering and transforming space: Auti...</td>\n",
       "      <td>42.0</td>\n",
       "      <td>article-journal</td>\n",
       "      <td>Emotion, Space and Society</td>\n",
       "      <td>NaN</td>\n",
       "      <td>en</td>\n",
       "      <td>{'date-parts': [[2022]]}</td>\n",
       "      <td>1000872</td>\n",
       "      <td>NaN</td>\n",
       "      <td>NaN</td>\n",
       "    </tr>\n",
       "    <tr>\n",
       "      <th>3</th>\n",
       "      <td>[{'family': 'Code', 'given': 'A.'}, {'family':...</td>\n",
       "      <td>How did autistic children, and their parents, ...</td>\n",
       "      <td>49.0</td>\n",
       "      <td>article-journal</td>\n",
       "      <td>British Journal of Special Education</td>\n",
       "      <td>2.0</td>\n",
       "      <td>en</td>\n",
       "      <td>{'date-parts': [[2022]]}</td>\n",
       "      <td>168–189</td>\n",
       "      <td>NaN</td>\n",
       "      <td>NaN</td>\n",
       "    </tr>\n",
       "    <tr>\n",
       "      <th>4</th>\n",
       "      <td>[{'family': 'Cohen', 'given': 'L.'}, {'family'...</td>\n",
       "      <td>Research Methods in Education’</td>\n",
       "      <td>6.0</td>\n",
       "      <td>article-journal</td>\n",
       "      <td>Routledge</td>\n",
       "      <td>NaN</td>\n",
       "      <td>en</td>\n",
       "      <td>{'date-parts': [[2018]]}</td>\n",
       "      <td>461– 475</td>\n",
       "      <td>NaN</td>\n",
       "      <td>NaN</td>\n",
       "    </tr>\n",
       "  </tbody>\n",
       "</table>\n",
       "</div>"
      ],
      "text/plain": [
       "                                              author  \\\n",
       "0  [{'family': 'Bagnall', 'given': 'C.'}, {'famil...   \n",
       "1                               [{'given': 'Booth'}]   \n",
       "2  [{'family': 'Birkett', 'given': 'L.'}, {'famil...   \n",
       "3  [{'family': 'Code', 'given': 'A.'}, {'family':...   \n",
       "4  [{'family': 'Cohen', 'given': 'L.'}, {'family'...   \n",
       "\n",
       "                                               title  volume             type  \\\n",
       "0  What emotional-centred challenges do children ...    21.0  article-journal   \n",
       "1  Systematic approaches to a successful literatu...     3.0  article-journal   \n",
       "2  Muting, filtering and transforming space: Auti...    42.0  article-journal   \n",
       "3  How did autistic children, and their parents, ...    49.0  article-journal   \n",
       "4                     Research Methods in Education’     6.0  article-journal   \n",
       "\n",
       "                                    container-title  issue language  \\\n",
       "0  Journal of Research in Special Educational Needs    2.0       en   \n",
       "1                                  SAGE Publication    NaN       en   \n",
       "2                        Emotion, Space and Society    NaN       en   \n",
       "3              British Journal of Special Education    2.0       en   \n",
       "4                                         Routledge    NaN       en   \n",
       "\n",
       "                     issued      page note  URL  \n",
       "0  {'date-parts': [[2021]]}   156–167  NaN  NaN  \n",
       "1  {'date-parts': [[2022]]}      1–22  NaN  NaN  \n",
       "2  {'date-parts': [[2022]]}   1000872  NaN  NaN  \n",
       "3  {'date-parts': [[2022]]}   168–189  NaN  NaN  \n",
       "4  {'date-parts': [[2018]]}  461– 475  NaN  NaN  "
      ]
     },
     "execution_count": 2,
     "metadata": {},
     "output_type": "execute_result"
    }
   ],
   "source": [
    "# Let's see what the json output from anystyle.io looks like\n",
    "import pandas as pd\n",
    "\n",
    "df=pd.read_json('training1_citations.json')\n",
    "df.head()\n",
    "\n",
    "# author field needs splitting into first and last name for each author\n",
    "# more importantly, no DOI info which is the most important field for linking to other data sources"
   ]
  },
  {
   "cell_type": "markdown",
   "metadata": {},
   "source": [
    "## ETL step 1 version2\n",
    "Extract citations from ref list using anystyle.io for json\n",
    "TODO: remove citations not used in lit review (for loop matching inline cites dictionarylist (need to extract using regex?) with reference list dictionarylist)\n",
    "# ETL step 2\n",
    "match references against semanticscholar api [boolean check]\n",
    "extract derived/prior cites from api\n",
    "build graph\n",
    "\n",
    "# analysis \n",
    "assess graph"
   ]
  },
  {
   "cell_type": "markdown",
   "metadata": {},
   "source": [
    "# Data Structure\n",
    "## chainmap? list of dictionaries\n",
    "\n",
    "key: DOI identified from API matching call \n",
    "value: list_cited (DOI strings returned from API call)\n",
    "value: list_referenced (DOI strings returned from API call)\n",
    "\n",
    "Some keys wil be in lists_cited/referenced for other records.\n",
    "\n",
    "list_cited = {DOI_from_studentReferenceList : (tuple of works referenced by DOI)}\n",
    "list_reffed = {DOI_from_studentReferenceList: {tuple of works citing DOI}}\n",
    "\n",
    "linked_cites = chainmap(list_cited, list_reffed)\n"
   ]
  },
  {
   "cell_type": "code",
   "execution_count": 15,
   "metadata": {},
   "outputs": [
    {
     "data": {
      "application/vnd.microsoft.datawrangler.viewer.v0+json": {
       "columns": [
        {
         "name": "index",
         "rawType": "int64",
         "type": "integer"
        },
        {
         "name": "intents",
         "rawType": "object",
         "type": "unknown"
        },
        {
         "name": "isInfluential",
         "rawType": "bool",
         "type": "boolean"
        },
        {
         "name": "contexts",
         "rawType": "object",
         "type": "unknown"
        },
        {
         "name": "citedPaper.paperId",
         "rawType": "object",
         "type": "string"
        },
        {
         "name": "citedPaper.externalIds.MAG",
         "rawType": "object",
         "type": "string"
        },
        {
         "name": "citedPaper.externalIds.DOI",
         "rawType": "object",
         "type": "string"
        },
        {
         "name": "citedPaper.externalIds.CorpusId",
         "rawType": "float64",
         "type": "float"
        },
        {
         "name": "citedPaper.abstract",
         "rawType": "object",
         "type": "string"
        },
        {
         "name": "citedPaper.year",
         "rawType": "int64",
         "type": "integer"
        },
        {
         "name": "citedPaper.externalIds.PubMed",
         "rawType": "object",
         "type": "unknown"
        },
        {
         "name": "citedPaper.externalIds",
         "rawType": "float64",
         "type": "float"
        }
       ],
       "conversionMethod": "pd.DataFrame",
       "ref": "e1669297-3bf9-4f12-8167-dcae76a17c81",
       "rows": [
        [
         "0",
         "['background']",
         "True",
         "['…Wiley & Sons Ltd on behalf of National Association for Special Educational Needs.156\\nJournal of Research in Special Educational Needs Volume 21 Number 2 2021 156–167 doi: 10.1111/1471-3802.12507\\nregulation, which have been found to be associated with poor transition (Bloyce and Frederickson, 2012).']",
         "1824cc642de0971ca09fecb9f46309e66dc9eb0b",
         "3120855306",
         "10.1080/02643944.2020.1855669",
         "234288080.0",
         "ABSTRACT Across countries, the age and timing of when children navigate school transition varies, as does provision of support during this challenging time. These two factors can heavily shape young people’s adjustment, yet to date there is minimal research which has investigated how this period is navigated in different cultures. The aim of the present exploratory-explanatory case study was to explore how educational transitions are managed and supported within the US, with a view to apply the lessons learnt to the UK context. Parents in the US have more choice regarding the age and timing of when children transfer schools, and so the research examined differences in transition preparations and experiences by children’s age, and whether they are in a two or three-tier school system. To do this, data collection methodologies included ethnographic classroom observations, student focus groups and staff and parent interviews, which were analysed using Thematic Analysis. Findings demonstrated that the earlier the transition, especially between the ages of 11 and 12, the harder it was perceived to be, and stakeholders had differing attitudes as to whether two transitions are better than one. It was concluded that while the present study has made preliminary progress in exploring the significance of transfer timing on students’ adjustment, further longitudinal and intervention comparative research is needed using wider cross-cultural samples.",
         "2021",
         null,
         null
        ],
        [
         "1",
         "[]",
         "False",
         "[]",
         "91ea2904beaa46ab80ee8c63be663c85017b00e9",
         "2921784536",
         "10.1111/bjep.12273",
         "76662055.0",
         "BACKGROUND\nPrimary-secondary school transition is a major life event for 11-year-old children in the United Kingdom and can also be a stressful period for parents and teachers. However, most research focuses on the impact of transition on children's academic performance and social well-being and we have a limited understanding of their emotional experiences in the lead up to and during the transition, from the perspective of key stakeholders: students, parents, and teachers.\n\n\nAIMS\nTo explore transfer students', parents', and teachers' experiences in the lead up to and over the transition period, and how they feel it could be improved.\n\n\nSAMPLE\nThe sample consisted of 45 year seven students, 8 year seven parents, 8 year seven teachers, and 8 year six teachers, recruited from five primary and five secondary schools.\n\n\nMETHOD\nStudents participated in face-to-face semi-structured focus groups and adults in asynchronous online focus groups. Transcribed audio-recordings were analysed using inductive thematic analysis.\n\n\nRESULTS\nStudents, parents, and teachers were shown to navigate a similar process over primary-secondary school transition. All talked about managing their own and others' emotions, relationships, and expectations. These were shaped by shared communication across primary and secondary schools and between the stakeholders, and impacted by how good transition provision was seen to be.\n\n\nCONCLUSIONS\nThere is a need to understand the transition period from the perspective of students, teachers, and parents, to improve school transition. This information will allow us to design emotional centred support interventions that reflect these lived experiences.",
         "2020",
         "30868577",
         null
        ],
        [
         "2",
         "['background']",
         "True",
         "['See Bagnall (2020) for a full outline of limitations pertaining to emotional-centred primary– secondary school transition interventions.', '[Correction made on 11 April 2021, after first online publication: ’author (2020)’ in the preceding statement has been corrected to ’Bagnall (2020)’ in this version.]', 'To date, we have a limited empirical understanding of children’s emotional experiences in the lead up to and over primary–secondary school transition (Bagnall, 2020).', '[Corrections made on 11 April 2021, after first online publication: Reference details for Bagnall et al. (2019) and Bagnall (2020) have been updated in this version.]\\nª 2021 The Authors.', '[Correction made on 11 April 2021, after first online publication: ’(author, (2020)’ in the preceding statement has been corrected to ’(Bagnall, 2020)’ in this version.]', 'Given that emotional-centred support provision is limited in schools and research (Bagnall, 2020), understanding how children with added emotional difficulties are supported and cope with transition anxieties, on top of their pre-existing difficulties, has significant practical implications in…', '[Correction made on 11 April 2021, after first online publication: ’(author, 2020)’ in the preceding statement has been corrected to ’(Bagnall, 2020)’ in this version.]']",
         "d29ae903413f33bc272b16b20cdb46c12bac3b59",
         "3002773696",
         "10.1080/02643944.2020.1713870",
         "213028364.0",
         "ABSTRACT Transitions are an unavoidable part of life, often conceptualised as ‘make it or break it periods’. They are important for personal growth and learning but can also be damaging in terms of our psychological wellbeing. Primary-secondary school transition is no exception and can heavily draw on children’s ability to cope. However, support for children that pays attention to their feelings about the transfer is often lacking. Very few interventions focus on developing children’s emotional resilience. There are also problems with the sustainability of such interventions. Thus, the present emotional-centred intervention, Talking about School Transition (TaST), aims to narrow this gap. The evaluation of the intervention is ongoing and will be reported in a separate publication. Following an introduction of the limitations in supporting children’s emotional well-being over primary-secondary school transition within schools, this paper provides details of the TaST intervention, including a brief description of the lessons’ content. Attention is given to the design of the TaST intervention and how preliminary research, in combination with psychological theory and existing research, have informed the intervention content. The proposed research has short-term implications for present participating Year 6 children’s adjustment and provides professionals working in schools with the knowledge and resources necessary to deliver TaST. In addition to this, the research has long-term implications for the field in highlighting the importance of supporting children’s emotional wellbeing over this period.",
         "2020",
         null,
         null
        ],
        [
         "3",
         "['background']",
         "True",
         "['Nonetheless, children with SEMH difficulties can be argued to be the best beneficiaries of student voice opportunities (Caslin, 2019), and a strength of the present research was the child-focussed photo-elicitation methodology, which helped the children to be heard and aided construction of…', 'The number of children identified as having SEMH difficulties is continually growing, yet support provision to ameliorate the difficulties children experience within educational settings is minimal (Caslin, 2019).', '…of Research in Special Educational Needs published by John Wiley & Sons Ltd on behalf of National Association for Special Educational Needs.164\\nchildren’s special educational needs and the lack of voice children with SEMH difficulties have within educational research and policy (Caslin, 2019).']",
         "fedaace877a9497cdd75bf0bac3967e366a66615",
         "2921897712",
         "10.1080/13632752.2019.1587899",
         "150864549.0",
         "ABSTRACT Young people whose behaviour does not conform to our expectations of how pupils should behave within an educational context have had a variety of labels attached to them including: Social, Emotional and Behavioural Difficulties (SEBD), and Attention Deficit Hyperactivity Disorder (ADHD). The employment of such labels will shape how the young person is perceived by the adults surrounding them. This will not only have an impact on the relationships that are developed between the pupil and the educator but also how the young people see themselves in terms of their own identity. This paper seeks to give voice and explore the position of young people within the confines of their educational experiences. The paper draws on 13 in-depth case studies to reflect on how young people experience the SEBD labels attached to them by others and what pupils consider to be the main antecedents leading them to display behaviour which is deemed unacceptable in the classroom. The paper highlights the importance of providing opportunities for young people to have their voice heard to fill the gap between professional perceptions and those of the pupil. In order to truly understand why young people display behaviour that is considered difficult and how they experience the labels we attach to them we have to speak to young people themselves.",
         "2019",
         null,
         null
        ],
        [
         "4",
         "['background']",
         "True",
         "[', 2017), greater focus on the school environment is significant, especially for children with SEMH difficulties whose voices are heavily underrepresented (Mowat, 2019).', '…in school, a setting that has a huge impact on children’s emotional, social and academic development and life skills (Taylor et al., 2017), greater focus on the school environment is significant, especially for children with SEMH difficulties whose voices are heavily underrepresented (Mowat, 2019).', 'This is the case even though children with SEMH difficulties exhibit lower feelings of school belonging and are more likely to receive punitive and exclusionary practices, which can only lead to further feelings of disempowerment (Mowat, 2019).']",
         "0361b823a2bb198b5bc81080247c1baf6fcdad66",
         "2909151624",
         "10.1080/13632752.2018.1564498",
         "149619409.0",
         "ABSTRACT Transitions represent an important milestone for children and are experienced differentially. For some children, transitions represent a critical period that can have a long-term impact on their lives. This paper examines the socio-emotional aspects of the transition through an exploration of the findings derived from an evaluative case study of a group-work intervention to support children with Social, Emotional and Behavioural Needs across the Primary-Secondary transition, seen through the eyes of an adolescent boy and related stakeholders. The study took place in two local authorities in Scotland. The intervention is informed by the ‘Teaching for Understanding Framework’ (Project Zero, Harvard University) and ‘Multiple Intelligence Theory.’ The study examines the impact of the intervention on participating pupils, in the process exploring the variables that impacted on pupil progress both internal and external to the intervention. The findings highlight the importance of: building trustful and respectful relationships between adults and children; creating a safe environment in which children will be listened to and cared for; high quality pedagogy and continuity and progression across the transition; and understanding the complexity of factors which may impact on the transition for individual children, particularly for those who may be at greater risk across it.",
         "2019",
         null,
         null
        ]
       ],
       "shape": {
        "columns": 11,
        "rows": 5
       }
      },
      "text/html": [
       "<div>\n",
       "<style scoped>\n",
       "    .dataframe tbody tr th:only-of-type {\n",
       "        vertical-align: middle;\n",
       "    }\n",
       "\n",
       "    .dataframe tbody tr th {\n",
       "        vertical-align: top;\n",
       "    }\n",
       "\n",
       "    .dataframe thead th {\n",
       "        text-align: right;\n",
       "    }\n",
       "</style>\n",
       "<table border=\"1\" class=\"dataframe\">\n",
       "  <thead>\n",
       "    <tr style=\"text-align: right;\">\n",
       "      <th></th>\n",
       "      <th>intents</th>\n",
       "      <th>isInfluential</th>\n",
       "      <th>contexts</th>\n",
       "      <th>citedPaper.paperId</th>\n",
       "      <th>citedPaper.externalIds.MAG</th>\n",
       "      <th>citedPaper.externalIds.DOI</th>\n",
       "      <th>citedPaper.externalIds.CorpusId</th>\n",
       "      <th>citedPaper.abstract</th>\n",
       "      <th>citedPaper.year</th>\n",
       "      <th>citedPaper.externalIds.PubMed</th>\n",
       "      <th>citedPaper.externalIds</th>\n",
       "    </tr>\n",
       "  </thead>\n",
       "  <tbody>\n",
       "    <tr>\n",
       "      <th>0</th>\n",
       "      <td>[background]</td>\n",
       "      <td>True</td>\n",
       "      <td>[…Wiley &amp; Sons Ltd on behalf of National Assoc...</td>\n",
       "      <td>1824cc642de0971ca09fecb9f46309e66dc9eb0b</td>\n",
       "      <td>3120855306</td>\n",
       "      <td>10.1080/02643944.2020.1855669</td>\n",
       "      <td>234288080.0</td>\n",
       "      <td>ABSTRACT Across countries, the age and timing ...</td>\n",
       "      <td>2021</td>\n",
       "      <td>NaN</td>\n",
       "      <td>NaN</td>\n",
       "    </tr>\n",
       "    <tr>\n",
       "      <th>1</th>\n",
       "      <td>[]</td>\n",
       "      <td>False</td>\n",
       "      <td>[]</td>\n",
       "      <td>91ea2904beaa46ab80ee8c63be663c85017b00e9</td>\n",
       "      <td>2921784536</td>\n",
       "      <td>10.1111/bjep.12273</td>\n",
       "      <td>76662055.0</td>\n",
       "      <td>BACKGROUND\\nPrimary-secondary school transitio...</td>\n",
       "      <td>2020</td>\n",
       "      <td>30868577</td>\n",
       "      <td>NaN</td>\n",
       "    </tr>\n",
       "    <tr>\n",
       "      <th>2</th>\n",
       "      <td>[background]</td>\n",
       "      <td>True</td>\n",
       "      <td>[See Bagnall (2020) for a full outline of limi...</td>\n",
       "      <td>d29ae903413f33bc272b16b20cdb46c12bac3b59</td>\n",
       "      <td>3002773696</td>\n",
       "      <td>10.1080/02643944.2020.1713870</td>\n",
       "      <td>213028364.0</td>\n",
       "      <td>ABSTRACT Transitions are an unavoidable part o...</td>\n",
       "      <td>2020</td>\n",
       "      <td>NaN</td>\n",
       "      <td>NaN</td>\n",
       "    </tr>\n",
       "    <tr>\n",
       "      <th>3</th>\n",
       "      <td>[background]</td>\n",
       "      <td>True</td>\n",
       "      <td>[Nonetheless, children with SEMH difficulties ...</td>\n",
       "      <td>fedaace877a9497cdd75bf0bac3967e366a66615</td>\n",
       "      <td>2921897712</td>\n",
       "      <td>10.1080/13632752.2019.1587899</td>\n",
       "      <td>150864549.0</td>\n",
       "      <td>ABSTRACT Young people whose behaviour does not...</td>\n",
       "      <td>2019</td>\n",
       "      <td>NaN</td>\n",
       "      <td>NaN</td>\n",
       "    </tr>\n",
       "    <tr>\n",
       "      <th>4</th>\n",
       "      <td>[background]</td>\n",
       "      <td>True</td>\n",
       "      <td>[, 2017), greater focus on the school environm...</td>\n",
       "      <td>0361b823a2bb198b5bc81080247c1baf6fcdad66</td>\n",
       "      <td>2909151624</td>\n",
       "      <td>10.1080/13632752.2018.1564498</td>\n",
       "      <td>149619409.0</td>\n",
       "      <td>ABSTRACT Transitions represent an important mi...</td>\n",
       "      <td>2019</td>\n",
       "      <td>NaN</td>\n",
       "      <td>NaN</td>\n",
       "    </tr>\n",
       "  </tbody>\n",
       "</table>\n",
       "</div>"
      ],
      "text/plain": [
       "        intents  isInfluential  \\\n",
       "0  [background]           True   \n",
       "1            []          False   \n",
       "2  [background]           True   \n",
       "3  [background]           True   \n",
       "4  [background]           True   \n",
       "\n",
       "                                            contexts  \\\n",
       "0  […Wiley & Sons Ltd on behalf of National Assoc...   \n",
       "1                                                 []   \n",
       "2  [See Bagnall (2020) for a full outline of limi...   \n",
       "3  [Nonetheless, children with SEMH difficulties ...   \n",
       "4  [, 2017), greater focus on the school environm...   \n",
       "\n",
       "                         citedPaper.paperId citedPaper.externalIds.MAG  \\\n",
       "0  1824cc642de0971ca09fecb9f46309e66dc9eb0b                 3120855306   \n",
       "1  91ea2904beaa46ab80ee8c63be663c85017b00e9                 2921784536   \n",
       "2  d29ae903413f33bc272b16b20cdb46c12bac3b59                 3002773696   \n",
       "3  fedaace877a9497cdd75bf0bac3967e366a66615                 2921897712   \n",
       "4  0361b823a2bb198b5bc81080247c1baf6fcdad66                 2909151624   \n",
       "\n",
       "      citedPaper.externalIds.DOI  citedPaper.externalIds.CorpusId  \\\n",
       "0  10.1080/02643944.2020.1855669                      234288080.0   \n",
       "1             10.1111/bjep.12273                       76662055.0   \n",
       "2  10.1080/02643944.2020.1713870                      213028364.0   \n",
       "3  10.1080/13632752.2019.1587899                      150864549.0   \n",
       "4  10.1080/13632752.2018.1564498                      149619409.0   \n",
       "\n",
       "                                 citedPaper.abstract  citedPaper.year  \\\n",
       "0  ABSTRACT Across countries, the age and timing ...             2021   \n",
       "1  BACKGROUND\\nPrimary-secondary school transitio...             2020   \n",
       "2  ABSTRACT Transitions are an unavoidable part o...             2020   \n",
       "3  ABSTRACT Young people whose behaviour does not...             2019   \n",
       "4  ABSTRACT Transitions represent an important mi...             2019   \n",
       "\n",
       "  citedPaper.externalIds.PubMed  citedPaper.externalIds  \n",
       "0                           NaN                     NaN  \n",
       "1                      30868577                     NaN  \n",
       "2                           NaN                     NaN  \n",
       "3                           NaN                     NaN  \n",
       "4                           NaN                     NaN  "
      ]
     },
     "execution_count": 15,
     "metadata": {},
     "output_type": "execute_result"
    }
   ],
   "source": [
    "import requests\n",
    "import pandas as pd\n",
    "\n",
    "# This search obtains paperId, title and matchscore fields\n",
    "response = requests.get('https://api.semanticscholar.org/graph/v1/paper/search/match?query=What emotional-centred challenges do children attending special schools face over primary secondary school transition?')\n",
    "data = response.json()\n",
    "\n",
    "df = pd.json_normalize(data['data'])\n",
    "df.head()\n",
    "\n",
    "# Let's get the paper references for the first paper\n",
    "response = requests.get('https://api.semanticscholar.org/graph/v1/paper/26d463146dfbcfa1e4e531eddc16ae6c74a5c45e/references?fields=contexts,intents,isInfluential,externalIds,year,abstract&offset=0&limit=100')\n",
    "data = response.json()\n",
    "\n",
    "list_of_references = pd.json_normalize(data['data'])\n",
    "list_of_references.head()\n",
    "#df.head()"
   ]
  },
  {
   "cell_type": "markdown",
   "metadata": {},
   "source": [
    "## Sandbox\n",
    "### Installing and testing libraries"
   ]
  },
  {
   "cell_type": "markdown",
   "metadata": {},
   "source": [
    "### semanticscholar api\n",
    "\n"
   ]
  },
  {
   "cell_type": "markdown",
   "metadata": {},
   "source": [
    "### Litstudy"
   ]
  },
  {
   "cell_type": "code",
   "execution_count": 1,
   "metadata": {},
   "outputs": [],
   "source": [
    "# Cell taken from litstudy man page\n",
    "# Installed Python 3.9 env in addition to existing 3.13 install \n",
    "# and installed litstudy in the new environment\n",
    "# This cell is to test that the new environment is working correctly\n",
    "# Import other libraries\n",
    "import os\n",
    "import sys\n",
    "import numpy as np\n",
    "import pandas as pd\n",
    "import matplotlib.pyplot as plt\n",
    "import seaborn as sbs\n",
    "\n",
    "# Options for plots\n",
    "plt.rcParams['figure.figsize'] = (10, 6)\n",
    "sbs.set('paper')\n",
    "\n",
    "# Import litstudy\n",
    "path = os.path.abspath(os.path.join('..'))\n",
    "if path not in sys.path:\n",
    "    sys.path.append(path)\n",
    "\n",
    "import litstudy"
   ]
  },
  {
   "cell_type": "code",
   "execution_count": 2,
   "metadata": {},
   "outputs": [],
   "source": [
    "#Load in the bibliographic data using litstudy function\n",
    "\n",
    "docs_example = litstudy.load_ris_file(r'C:\\Users\\admin\\OneDrive - DAML_DarrenGarside\\Documents\\Exported Items.ris')\n"
   ]
  },
  {
   "cell_type": "code",
   "execution_count": 3,
   "metadata": {},
   "outputs": [
    {
     "data": {
      "image/png": "[encoded data removed]",
      "text/plain": [
       "<Figure size 1000x600 with 1 Axes>"
      ]
     },
     "metadata": {},
     "output_type": "display_data"
    }
   ],
   "source": [
    "# test the data has loaded by doing a very basic plot\n",
    "\n",
    "litstudy.plot_year_histogram(docs_example);\n"
   ]
  },
  {
   "cell_type": "markdown",
   "metadata": {},
   "source": [
    "### DOCX - no longer a candidate because of anystyle.io"
   ]
  },
  {
   "cell_type": "markdown",
   "metadata": {},
   "source": [
    "### Beautiful Soup"
   ]
  }
 ],
 "metadata": {
  "kernelspec": {
   "display_name": "python39",
   "language": "python",
   "name": "python3"
  },
  "language_info": {
   "codemirror_mode": {
    "name": "ipython",
    "version": 3
   },
   "file_extension": ".py",
   "mimetype": "text/x-python",
   "name": "python",
   "nbconvert_exporter": "python",
   "pygments_lexer": "ipython3",
   "version": "3.9.21"
  }
 },
 "nbformat": 4,
 "nbformat_minor": 2
}
